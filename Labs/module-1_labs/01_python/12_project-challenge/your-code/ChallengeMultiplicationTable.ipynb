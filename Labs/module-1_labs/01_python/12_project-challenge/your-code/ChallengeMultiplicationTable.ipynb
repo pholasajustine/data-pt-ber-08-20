{
 "cells": [
  {
   "cell_type": "markdown",
   "metadata": {},
   "source": [
    "## Challenge C: Multiplication Table\n",
    "\n",
    "#### Description\n",
    "    \n",
    "Your task, is to create a function which returns a **NxN multiplication table**, of size N provided as a function argument.\n",
    "\n",
    "for example, when given size is 3:\n",
    "\n",
    "1 2 3\n",
    "\n",
    "2 4 6\n",
    "\n",
    "3 6 9\n",
    "\n",
    "So for the given example, the return value should be: [[1,2,3],[2,4,6],[3,6,9]]\n"
   ]
  },
  {
   "cell_type": "code",
   "execution_count": null,
   "metadata": {},
   "outputs": [],
   "source": [
    "def multiplication_table(n):\n",
    "    if n > 0:\n",
    "        return [[a*i for a in range(1, n+1)] for i in range(1, n+1)]\n",
    "    elif n == 0:\n",
    "        return [0]\n",
    "    else:\n",
    "        return [[-a*i for a in range(1, -n+1)] for i in range(1, -n+1)]\n",
    "        \n",
    "\n",
    "number = input('Give me a number:')\n",
    "try:\n",
    "    print(multiplication_table(int(number)))\n",
    "except ValueError:\n",
    "    print('You have to give a number. Try again.')"
   ]
  },
  {
   "cell_type": "markdown",
   "metadata": {},
   "source": [
    "## Bonus\n",
    "\n",
    "#### Triangle de Pascal "
   ]
  },
  {
   "cell_type": "code",
   "execution_count": null,
   "metadata": {},
   "outputs": [],
   "source": [
    "def pascal_triangle(n):\n",
    "    #Liste imbriquée avec des 0\n",
    "    T = [[0] * (n+1) for n in range(n+1)]\n",
    "    for n in range(n+1):\n",
    "    # Si le nombre donné est 0 alors la liste ne contient que 1\n",
    "        if n == 0:\n",
    "            T[n][0] = 1\n",
    "        else:\n",
    "            for p in range(n+1):\n",
    "            # le premier chiffre de chaque liste est égale à 1\n",
    "                if p == 0:\n",
    "                    T[n][p] = 1\n",
    "            # le dernier chiffre de chaque liste est égale à 1\n",
    "                elif p == n:\n",
    "                    T[n][p] = 1\n",
    "            # Calcul de T[n][p] qui est égal au chifre en diagonal à gauche et au-dessus\n",
    "                else:\n",
    "                    T[n][p] = T[n-1][p-1] + T[n-1][p]\n",
    "    for n in range(n+1):\n",
    "    #Affichage des listes à la suite pour créer un triangle\n",
    "        print(T[n])\n",
    "        \n",
    "        \n",
    "pascal_triangle(3)"
   ]
  }
 ],
 "metadata": {
  "kernelspec": {
   "display_name": "Python 3",
   "language": "python",
   "name": "python3"
  },
  "language_info": {
   "codemirror_mode": {
    "name": "ipython",
    "version": 3
   },
   "file_extension": ".py",
   "mimetype": "text/x-python",
   "name": "python",
   "nbconvert_exporter": "python",
   "pygments_lexer": "ipython3",
   "version": "3.8.3"
  }
 },
 "nbformat": 4,
 "nbformat_minor": 4
}
